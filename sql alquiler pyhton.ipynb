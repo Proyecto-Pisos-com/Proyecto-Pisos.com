{
 "cells": [
  {
   "cell_type": "code",
   "execution_count": null,
   "id": "fb2721a7",
   "metadata": {},
   "outputs": [],
   "source": [
    "import pandas as pd\n",
    "import pymysql\n",
    "\n",
    "df = pd.read_csv(\"alquiler.csv\")\n",
    "\n",
    "# Crear tipo_vivienda a partir de las columnas booleanas de Pablo\n",
    "df[\"tipo_vivienda\"] = df.apply(lambda row: (\n",
    "    \"ático\" if row[\"atico\"] else\n",
    "    \"apartamento\" if row[\"apartamento\"] else\n",
    "    \"estudio\" if row[\"estudio\"] else\n",
    "    \"dúplex\" if row[\"duplex\"] else\n",
    "    \"chalet\" if row[\"chalet\"] else\n",
    "    \"finca\" if row[\"finca\"] else\n",
    "    \"loft\" if row[\"loft\"] else\n",
    "    \"piso\"\n",
    "), axis=1)\n",
    "\n",
    " \n",
    "\n",
    "conexion = pymysql.connect(\n",
    "    host=\"localhost\",\n",
    "    user=\"root\",\n",
    "    password=\"Destroyerl0\",\n",
    "    database=\"propiedades_de_alquiler\",\n",
    "    charset=\"utf8mb4\"\n",
    ")\n",
    "\n",
    "cursor = conexion.cursor()\n",
    "\n",
    "# Insertar datos (sin descripcion_ampliada y con superficie_util como None)\n",
    "for _, fila in df.iterrows():\n",
    "    sql = \"\"\"\n",
    "    INSERT INTO anuncios (\n",
    "        titulo, precio, ubicacion, habitaciones, banos, metros,\n",
    "        tipo_vivienda, superficie_construida, superficie_util,\n",
    "        link\n",
    "    ) VALUES (%s, %s, %s, %s, %s, %s, %s, %s, %s, %s)\n",
    "    \"\"\"\n",
    "    datos = (\n",
    "        fila[\"titulo\"],\n",
    "        float(fila[\"precio\"]) if not pd.isna(fila[\"precio\"]) else None,\n",
    "        fila[\"ubicacion\"],\n",
    "        int(fila[\"habitaciones\"]) if not pd.isna(fila[\"habitaciones\"]) else None,\n",
    "        int(fila[\"baños\"]) if not pd.isna(fila[\"baños\"]) else None,\n",
    "        int(fila[\"metros\"]) if not pd.isna(fila[\"metros\"]) else None,\n",
    "        fila[\"tipo_vivienda\"],\n",
    "        int(fila[\"superficie_construida\"]) if not pd.isna(fila[\"superficie_construida\"]) else None,\n",
    "        None,  # superficie_util no está en el archivo\n",
    "        fila[\"link\"]\n",
    "    )\n",
    "    cursor.execute(sql, datos)\n",
    "\n",
    "\n",
    "conexion.commit()\n",
    "cursor.close()\n",
    "conexion.close()"
   ]
  },
  {
   "cell_type": "code",
   "execution_count": null,
   "id": "ec1427b7",
   "metadata": {},
   "outputs": [],
   "source": []
  }
 ],
 "metadata": {
  "kernelspec": {
   "display_name": "Python 3",
   "language": "python",
   "name": "python3"
  },
  "language_info": {
   "codemirror_mode": {
    "name": "ipython",
    "version": 3
   },
   "file_extension": ".py",
   "mimetype": "text/x-python",
   "name": "python",
   "nbconvert_exporter": "python",
   "pygments_lexer": "ipython3",
   "version": "3.11.9"
  }
 },
 "nbformat": 4,
 "nbformat_minor": 5
}
