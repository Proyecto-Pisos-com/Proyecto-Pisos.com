{
 "cells": [
  {
   "cell_type": "code",
   "execution_count": 3,
   "id": "8ce6f6a1-bfdb-4c14-b78b-060727ca0be0",
   "metadata": {},
   "outputs": [
    {
     "name": "stdout",
     "output_type": "stream",
     "text": [
      "Columnas en venta_con_tipos.csv: Index(['timestamp', 'titulo', 'ubicacion', 'link', 'descripcion_ampliada',\n",
      "       'certificado_energetico', 'tipo_vivienda', 'precio_num',\n",
      "       'habitaciones_num', 'baños_num', 'superficie_construida_num',\n",
      "       'superficie_util_num', 'metros_num', 'lat', 'lon', 'es_piso', 'es_casa',\n",
      "       'es_atico', 'es_estudio', 'es_apartamento', 'es_duplex', 'es_chalet',\n",
      "       'es_finca', 'es_loft'],\n",
      "      dtype='object')\n",
      "Columnas en venta_detalles_scrapeados.csv: Index(['conservacion', 'precio_m2', 'url'], dtype='object')\n"
     ]
    }
   ],
   "source": [
    "import pandas as pd\n",
    "\n",
    "# Cargar los dos archivos\n",
    "df_venta = pd.read_csv(\"C:/Users/pablo/proyecto/comparador/venta_con_tipos.csv\")\n",
    "df_detalles = pd.read_csv(\"C:/Users/pablo/proyecto/comparador/venta_detalles_scrapeados.csv\")\n",
    "\n",
    "# Verifica cómo se llama la columna de enlace en cada uno (puede ser 'url' o 'link')\n",
    "print(\"Columnas en venta_con_tipos.csv:\", df_venta.columns)\n",
    "print(\"Columnas en venta_detalles_scrapeados.csv:\", df_detalles.columns)\n"
   ]
  },
  {
   "cell_type": "code",
   "execution_count": 11,
   "id": "aa4bb83e-28fa-4a6c-9bee-3a407f5e6249",
   "metadata": {},
   "outputs": [
    {
     "name": "stdout",
     "output_type": "stream",
     "text": [
      "✅ CSV combinado guardado como venta_unificado_final.csv\n"
     ]
    }
   ],
   "source": [
    "import pandas as pd\n",
    "\n",
    "# Cargar los dos archivos\n",
    "df_venta = pd.read_csv(\"C:/Users/pablo/proyecto/comparador/venta_con_tipos.csv\")\n",
    "df_detalles = pd.read_csv(\"C:/Users/pablo/proyecto/comparador/venta_detalles_scrapeados.csv\")\n",
    "\n",
    "# Renombrar la columna 'url' a 'link' para que coincida con df_venta\n",
    "df_detalles.rename(columns={'url': 'link'}, inplace=True)\n",
    "\n",
    "# Unir por la columna 'link'\n",
    "df_unido = pd.merge(df_venta, df_detalles, on='link', how='left')\n",
    "\n",
    "# Guardar el resultado final\n",
    "df_unido.to_csv(\"C:/Users/pablo/proyecto/comparador/venta_unificado_final.csv\", index=False)\n",
    "print(\"✅ CSV combinado guardado como venta_unificado_final.csv\")\n",
    "\n"
   ]
  },
  {
   "cell_type": "code",
   "execution_count": null,
   "id": "878d763a-aac3-4ebd-adb3-03a02b49d06c",
   "metadata": {},
   "outputs": [],
   "source": []
  }
 ],
 "metadata": {
  "kernelspec": {
   "display_name": "Python [conda env:base] *",
   "language": "python",
   "name": "conda-base-py"
  },
  "language_info": {
   "codemirror_mode": {
    "name": "ipython",
    "version": 3
   },
   "file_extension": ".py",
   "mimetype": "text/x-python",
   "name": "python",
   "nbconvert_exporter": "python",
   "pygments_lexer": "ipython3",
   "version": "3.12.7"
  }
 },
 "nbformat": 4,
 "nbformat_minor": 5
}
