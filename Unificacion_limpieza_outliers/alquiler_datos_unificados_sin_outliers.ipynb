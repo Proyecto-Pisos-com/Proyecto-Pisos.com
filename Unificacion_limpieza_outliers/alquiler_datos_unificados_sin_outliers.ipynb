{
 "cells": [
  {
   "cell_type": "code",
   "execution_count": 3,
   "id": "f6040fe2-599d-4f76-a4c4-529b7d91bab3",
   "metadata": {},
   "outputs": [
    {
     "name": "stdout",
     "output_type": "stream",
     "text": [
      "✅ Archivos unidos. Columnas totales: 24\n",
      "Registros totales: 1477\n"
     ]
    }
   ],
   "source": [
    "import pandas as pd\n",
    "\n",
    "# Cargar los archivos\n",
    "df_alquiler = pd.read_csv(\"C:/Users/pablo/proyecto/comparador/alquiler_con_tipos_detectados.csv\")\n",
    "df_detalles = pd.read_csv(\"C:/Users/pablo/proyecto/comparador/alquiler_detalles_scrapeados.csv\")\n",
    "\n",
    "# Asegurarse de que coincidan los nombres de columna\n",
    "df_detalles.rename(columns={'url': 'link'}, inplace=True)\n",
    "\n",
    "# Unir ambos datasets por la columna 'link'\n",
    "df_alquiler_unido = pd.merge(df_alquiler, df_detalles, on='link', how='left')\n",
    "\n",
    "# Guardar el archivo combinado (opcional)\n",
    "df_alquiler_unido.to_csv(\"C:/Users/pablo/proyecto/comparador/alquiler_unificado_final.csv\", index=False)\n",
    "\n",
    "# Verificar columnas y registros resultantes\n",
    "print(\"✅ Archivos unidos. Columnas totales:\", df_alquiler_unido.shape[1])\n",
    "print(\"Registros totales:\", df_alquiler_unido.shape[0])\n"
   ]
  },
  {
   "cell_type": "code",
   "execution_count": 8,
   "id": "2f69d68f-9e19-4d60-a8c4-a6393b7aae4e",
   "metadata": {},
   "outputs": [
    {
     "name": "stdout",
     "output_type": "stream",
     "text": [
      "['titulo', 'ubicacion', 'precio', 'habitaciones', 'baños', 'metros', 'superficie_construida', 'superficie_util', 'link', 'url', 'lat', 'lon', 'es_piso', 'es_casa', 'es_atico', 'es_estudio', 'es_apartamento', 'es_duplex', 'es_chalet', 'es_finca', 'es_loft']\n"
     ]
    }
   ],
   "source": [
    "print(df_alquiler.columns.tolist())"
   ]
  },
  {
   "cell_type": "code",
   "execution_count": 10,
   "id": "f5ca5ac6-bf17-4f40-883a-d330d64d95d2",
   "metadata": {},
   "outputs": [
    {
     "name": "stdout",
     "output_type": "stream",
     "text": [
      "✅ Columnas actualizadas:\n",
      "['titulo', 'ubicacion', 'precio', 'habitaciones', 'baños', 'metros', 'superficie_construida', 'superficie_util', 'link', 'url', 'lat', 'lon', 'piso', 'casa', 'atico', 'estudio', 'apartamento', 'duplex', 'chalet', 'finca', 'loft', 'conservacion', 'precio_m2', 'certificado_energetico']\n"
     ]
    }
   ],
   "source": [
    "# Detectar y renombrar columnas que empiezan por 'es_'\n",
    "nuevos_nombres = {\n",
    "    col: col.replace('es_', '') \n",
    "    for col in df_alquiler_unido.columns \n",
    "    if col.startswith('es_')\n",
    "}\n",
    "\n",
    "# Aplicar renombrado\n",
    "df_alquiler_unido.rename(columns=nuevos_nombres, inplace=True)\n",
    "\n",
    "# Ver columnas renombradas\n",
    "print(\"✅ Columnas actualizadas:\")\n",
    "print(df_alquiler_unido.columns.tolist())\n"
   ]
  },
  {
   "cell_type": "code",
   "execution_count": 13,
   "id": "24d7731e-c37d-40a1-9f77-3d3ed4545411",
   "metadata": {},
   "outputs": [
    {
     "name": "stdout",
     "output_type": "stream",
     "text": [
      "Valores nulos en precio_m2: 654\n"
     ]
    }
   ],
   "source": [
    "# Convertir 'precio_m2' a tipo numérico (float)\n",
    "df_alquiler_unido['precio_m2'] = (\n",
    "    df_alquiler_unido['precio_m2']\n",
    "    .astype(str)\n",
    "    .str.replace('.', '', regex=False)\n",
    "    .str.replace(' €/m²', '', regex=False)\n",
    "    .str.strip()\n",
    ")\n",
    "\n",
    "# Convertir a número y forzar NaN donde no se pueda\n",
    "df_alquiler_unido['precio_m2'] = pd.to_numeric(df_alquiler_unido['precio_m2'], errors='coerce')\n",
    "\n",
    "# Ver cuántos valores nulos quedan\n",
    "print(\"Valores nulos en precio_m2:\", df_alquiler_unido['precio_m2'].isnull().sum())\n"
   ]
  },
  {
   "cell_type": "code",
   "execution_count": 15,
   "id": "c551fb66-5389-45fe-a7c4-840182edb616",
   "metadata": {},
   "outputs": [
    {
     "name": "stdout",
     "output_type": "stream",
     "text": [
      "Registros tras eliminar precio_m2 nulo: 823\n"
     ]
    }
   ],
   "source": [
    "# Eliminar registros sin precio_m2\n",
    "df_alquiler_unido = df_alquiler_unido.dropna(subset=['precio_m2'])\n",
    "\n",
    "# Ver cuántos registros quedan\n",
    "print(\"Registros tras eliminar precio_m2 nulo:\", df_alquiler_unido.shape[0])\n",
    "\n"
   ]
  },
  {
   "cell_type": "code",
   "execution_count": 17,
   "id": "9628174f-59c5-45e3-a0e0-57d132bf7252",
   "metadata": {},
   "outputs": [
    {
     "name": "stdout",
     "output_type": "stream",
     "text": [
      "Registros tras eliminar conservacion nulo: 556\n"
     ]
    }
   ],
   "source": [
    "# Eliminar registros sin conservacion\n",
    "df_alquiler_unido = df_alquiler_unido.dropna(subset=['conservacion'])\n",
    "\n",
    "# Ver cuántos registros quedan\n",
    "print(\"Registros tras eliminar conservacion nulo:\", df_alquiler_unido.shape[0])\n"
   ]
  },
  {
   "cell_type": "code",
   "execution_count": 19,
   "id": "6dbb9172-6084-4f58-a809-c54e57dd3ff9",
   "metadata": {},
   "outputs": [
    {
     "name": "stdout",
     "output_type": "stream",
     "text": [
      "Registros tras eliminar outliers: 505\n"
     ]
    }
   ],
   "source": [
    "# Función para eliminar outliers con IQR\n",
    "def eliminar_outliers_iqr(df, columnas):\n",
    "    for col in columnas:\n",
    "        Q1 = df[col].quantile(0.25)\n",
    "        Q3 = df[col].quantile(0.75)\n",
    "        IQR = Q3 - Q1\n",
    "        limite_inferior = Q1 - 1.5 * IQR\n",
    "        limite_superior = Q3 + 1.5 * IQR\n",
    "        df = df[(df[col] >= limite_inferior) & (df[col] <= limite_superior)]\n",
    "    return df\n",
    "\n",
    "# Aplicar la función a las columnas clave\n",
    "columnas_outliers = ['precio', 'metros', 'precio_m2']\n",
    "df_alquiler_unido = eliminar_outliers_iqr(df_alquiler_unido, columnas_outliers)\n",
    "\n",
    "# Ver cuántos registros quedan\n",
    "print(\"Registros tras eliminar outliers:\", df_alquiler_unido.shape[0])\n"
   ]
  },
  {
   "cell_type": "code",
   "execution_count": 21,
   "id": "165e8d53-5ce7-47fc-b283-eae54ccab1b8",
   "metadata": {},
   "outputs": [
    {
     "name": "stdout",
     "output_type": "stream",
     "text": [
      "✅ Registros tras eliminar inmuebles con < 25 m²: 502\n"
     ]
    }
   ],
   "source": [
    "# Eliminar registros con menos de 25 metros cuadrados\n",
    "df_alquiler_unido = df_alquiler_unido[df_alquiler_unido['metros'] >= 25]\n",
    "\n",
    "# Reiniciar índices\n",
    "df_alquiler_unido = df_alquiler_unido.reset_index(drop=True)\n",
    "\n",
    "# Ver cuántos registros quedan\n",
    "print(\"✅ Registros tras eliminar inmuebles con < 25 m²:\", df_alquiler_unido.shape[0])\n"
   ]
  },
  {
   "cell_type": "code",
   "execution_count": 23,
   "id": "afce2d4e-8683-4249-9264-ce88280e9b2e",
   "metadata": {},
   "outputs": [
    {
     "name": "stdout",
     "output_type": "stream",
     "text": [
      "✅ Dataset listo. Registros finales: 501\n"
     ]
    }
   ],
   "source": [
    "# Eliminar columna completamente vacía\n",
    "df_alquiler_unido.drop(columns=['certificado_energetico'], inplace=True)\n",
    "\n",
    "# Eliminar filas con valores nulos residuales (1 fila en lat/lon/sup_construida)\n",
    "df_alquiler_unido = df_alquiler_unido.dropna(subset=['lat', 'lon', 'superficie_construida'])\n",
    "\n",
    "# Reiniciar índice\n",
    "df_alquiler_unido = df_alquiler_unido.reset_index(drop=True)\n",
    "\n",
    "# Mostrar resultado final\n",
    "print(\"✅ Dataset listo. Registros finales:\", df_alquiler_unido.shape[0])\n"
   ]
  },
  {
   "cell_type": "code",
   "execution_count": 27,
   "id": "f2cd55e0-4001-4ee5-85c1-9b61353dfe3c",
   "metadata": {},
   "outputs": [
    {
     "name": "stdout",
     "output_type": "stream",
     "text": [
      "✅ Columna 'superficie_util' eliminada.\n",
      "Columnas actuales: ['titulo', 'ubicacion', 'precio', 'habitaciones', 'baños', 'metros', 'superficie_construida', 'link', 'url', 'lat', 'lon', 'piso', 'casa', 'atico', 'estudio', 'apartamento', 'duplex', 'chalet', 'finca', 'loft', 'conservacion', 'precio_m2']\n"
     ]
    }
   ],
   "source": [
    "# Eliminar la columna 'superficie_util'\n",
    "df_alquiler_unido.drop(columns=['superficie_util'], inplace=True)\n",
    "\n",
    "# Confirmar columnas actuales\n",
    "print(\"✅ Columna 'superficie_util' eliminada.\")\n",
    "print(\"Columnas actuales:\", df_alquiler_unido.columns.tolist())\n"
   ]
  },
  {
   "cell_type": "code",
   "execution_count": 33,
   "id": "8b365022-6864-492b-b66f-1c852170a4cb",
   "metadata": {},
   "outputs": [
    {
     "name": "stdout",
     "output_type": "stream",
     "text": [
      "✅ Archivo guardado como alquiler_unificado_final.csv\n"
     ]
    }
   ],
   "source": [
    "# Guardar el DataFrame limpio de alquiler\n",
    "df_alquiler_unido.to_csv(\"C:/Users/pablo/proyecto/comparador/alquiler_unificado_final.csv\", index=False)\n",
    "\n",
    "print(\"✅ Archivo guardado como alquiler_unificado_final.csv\")\n",
    "\n"
   ]
  },
  {
   "cell_type": "code",
   "execution_count": null,
   "id": "c8961e27-9924-4254-8856-e633f4a5d99e",
   "metadata": {},
   "outputs": [],
   "source": []
  }
 ],
 "metadata": {
  "kernelspec": {
   "display_name": "Python [conda env:base] *",
   "language": "python",
   "name": "conda-base-py"
  },
  "language_info": {
   "codemirror_mode": {
    "name": "ipython",
    "version": 3
   },
   "file_extension": ".py",
   "mimetype": "text/x-python",
   "name": "python",
   "nbconvert_exporter": "python",
   "pygments_lexer": "ipython3",
   "version": "3.12.7"
  }
 },
 "nbformat": 4,
 "nbformat_minor": 5
}
