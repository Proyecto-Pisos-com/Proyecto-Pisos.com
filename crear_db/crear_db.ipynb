{
 "cells": [
  {
   "cell_type": "code",
   "execution_count": 11,
   "id": "d088bee3-7961-4eed-b216-a48e9eb19aad",
   "metadata": {},
   "outputs": [
    {
     "name": "stdout",
     "output_type": "stream",
     "text": [
      "✅ Base de datos guardada en: C:\\Users\\pablo\\App_Pisos\\data\\alquiler.db\n",
      "✅ Base de datos guardada en: C:\\Users\\pablo\\App_Pisos\\data\\ventas.db\n"
     ]
    }
   ],
   "source": [
    "import pandas as pd\n",
    "import sqlite3\n",
    "import os\n",
    "\n",
    "# --- Ruta base absoluta (ajusta si tu carpeta cambia) ---\n",
    "RUTA_BASE = r\"C:\\Users\\pablo\\App_Pisos\\data\"\n",
    "\n",
    "archivo_csv_alquiler = os.path.join(RUTA_BASE, \"alquiler.csv\")\n",
    "archivo_csv_ventas = os.path.join(RUTA_BASE, \"ventas.csv\")\n",
    "db_alquiler = os.path.join(RUTA_BASE, \"alquiler.db\")\n",
    "db_ventas = os.path.join(RUTA_BASE, \"ventas.db\")\n",
    "\n",
    "# Columnas esperadas\n",
    "columnas_esperadas = [\n",
    "    \"titulo\", \"precio\", \"ubicacion\", \"habitaciones\", \"baños\", \"metros\",\n",
    "    \"superficie_construida\", \"superficie_util\", \"tipo_vivienda\",\n",
    "    \"descripcion_ampliada\", \"link\", \"precio_m2\"\n",
    "]\n",
    "\n",
    "# Columnas booleanas para tipo de vivienda\n",
    "lista_tipos_vivienda = [\"piso\", \"atico\", \"estudio\", \"apartamento\", \"duplex\", \"chalet\", \"finca\", \"loft\"]\n",
    "\n",
    "# --- Generar tipo_vivienda desde columnas booleanas ---\n",
    "def generar_tipo_vivienda(df):\n",
    "    df = df.copy()\n",
    "    boolean_matrix = df[lista_tipos_vivienda].fillna(False).astype(bool)\n",
    "    suma_booleans = boolean_matrix.sum(axis=1)\n",
    "\n",
    "    conflictivas = df[suma_booleans > 1]\n",
    "    if not conflictivas.empty:\n",
    "        print(f\"⚠️ Se encontraron {len(conflictivas)} filas con múltiples tipos de vivienda marcados. Se eliminarán.\")\n",
    "        df = df[suma_booleans <= 1]\n",
    "\n",
    "    df[\"tipo_vivienda\"] = boolean_matrix.to_numpy().argmax(axis=1)\n",
    "    df[\"tipo_vivienda\"] = df[\"tipo_vivienda\"].apply(lambda val: lista_tipos_vivienda[val])\n",
    "\n",
    "    return df\n",
    "\n",
    "# --- Preparar DataFrame ---\n",
    "def preparar_dataframe(ruta_csv):\n",
    "    df = pd.read_csv(ruta_csv)\n",
    "\n",
    "    if all(col in df.columns for col in lista_tipos_vivienda):\n",
    "        df = generar_tipo_vivienda(df)\n",
    "\n",
    "    for col in columnas_esperadas:\n",
    "        if col not in df.columns:\n",
    "            df[col] = pd.NA\n",
    "\n",
    "    return df[columnas_esperadas]\n",
    "\n",
    "# --- Guardar en SQLite ---\n",
    "def guardar_en_sqlite(df, ruta_sqlite):\n",
    "    conn = sqlite3.connect(ruta_sqlite)\n",
    "    df.to_sql(\"anuncios\", conn, if_exists=\"replace\", index=False)\n",
    "    conn.close()\n",
    "    print(f\"✅ Base de datos guardada en: {ruta_sqlite}\")\n",
    "\n",
    "# --- Ejecutar ---\n",
    "df_alquiler = preparar_dataframe(archivo_csv_alquiler)\n",
    "guardar_en_sqlite(df_alquiler, db_alquiler)\n",
    "\n",
    "df_ventas = preparar_dataframe(archivo_csv_ventas)\n",
    "guardar_en_sqlite(df_ventas, db_ventas)\n"
   ]
  },
  {
   "cell_type": "code",
   "execution_count": null,
   "id": "9a29a708-d820-496f-bee1-5b12280c8c95",
   "metadata": {},
   "outputs": [],
   "source": []
  }
 ],
 "metadata": {
  "kernelspec": {
   "display_name": "Python [conda env:base] *",
   "language": "python",
   "name": "conda-base-py"
  },
  "language_info": {
   "codemirror_mode": {
    "name": "ipython",
    "version": 3
   },
   "file_extension": ".py",
   "mimetype": "text/x-python",
   "name": "python",
   "nbconvert_exporter": "python",
   "pygments_lexer": "ipython3",
   "version": "3.12.7"
  }
 },
 "nbformat": 4,
 "nbformat_minor": 5
}
