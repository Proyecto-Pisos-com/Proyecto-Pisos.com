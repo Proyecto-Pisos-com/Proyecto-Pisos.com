{
 "cells": [
  {
   "cell_type": "code",
   "execution_count": null,
   "id": "fb2721a7",
   "metadata": {},
   "outputs": [],
   "source": [
    "consulta_por_defecto = \"\"\n",
    "\n",
    "if consulta_rapida == \"Mostrar todos los anuncios registrados\":\n",
    "    consulta_por_defecto = \"SELECT * FROM anuncios;\"\n",
    "\n",
    "elif consulta_rapida == \"Mostrar fecha, título y precio de cada anuncio\":\n",
    "    consulta_por_defecto = \"SELECT timestamp, titulo, precio FROM anuncios;\"\n",
    "\n",
    "elif consulta_rapida == \"Propiedades con más de x habitaciones\":\n",
    "    consulta_por_defecto = \"SELECT titulo, habitaciones FROM anuncios WHERE habitaciones > ?;\"\n",
    "\n",
    "elif consulta_rapida == \"Propiedades con superficie mayor a 100 m²\":\n",
    "    consulta_por_defecto = \"SELECT titulo, metros FROM anuncios WHERE metros > 100;\"\n",
    "\n",
    "elif consulta_rapida == \"Precio promedio por tipo de propiedad\":\n",
    "    consulta_por_defecto = \"SELECT tipo_vivienda, AVG(precio) AS precio_promedio FROM anuncios GROUP BY tipo_vivienda;\"\n",
    "\n",
    "elif consulta_rapida == \"Cantidad total de anuncios publicados\":\n",
    "    consulta_por_defecto = \"SELECT COUNT(*) AS total_anuncios FROM anuncios;\"\n",
    "\n",
    "elif consulta_rapida == \"Anuncios ordenados por precio (ascendente)\":\n",
    "    consulta_por_defecto = \"SELECT titulo, precio FROM anuncios ORDER BY precio ASC;\"\n",
    "\n",
    "elif consulta_rapida == \"Anuncios ordenados por precio (descendente)\":\n",
    "    consulta_por_defecto = \"SELECT titulo, precio FROM anuncios ORDER BY precio DESC;\"\n",
    "\n",
    "elif consulta_rapida == \"Propiedades en rango de precio personalizado\":\n",
    "    consulta_por_defecto = \"SELECT titulo, tipo_vivienda, precio, ubicacion FROM anuncios WHERE precio BETWEEN ? AND ?;\"\n"
   ]
  },
  {
   "cell_type": "code",
   "execution_count": null,
   "id": "58a31f2c",
   "metadata": {},
   "outputs": [],
   "source": []
  }
 ],
 "metadata": {
  "kernelspec": {
   "display_name": "base",
   "language": "python",
   "name": "python3"
  },
  "language_info": {
   "codemirror_mode": {
    "name": "ipython",
    "version": 3
   },
   "file_extension": ".py",
   "mimetype": "text/x-python",
   "name": "python",
   "nbconvert_exporter": "python",
   "pygments_lexer": "ipython3",
   "version": "3.12.7"
  }
 },
 "nbformat": 4,
 "nbformat_minor": 5
}
